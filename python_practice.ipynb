{
  "nbformat": 4,
  "nbformat_minor": 0,
  "metadata": {
    "colab": {
      "provenance": [],
      "authorship_tag": "ABX9TyMrYClfg9DMvScDMWLqem/c",
      "include_colab_link": true
    },
    "kernelspec": {
      "name": "python3",
      "display_name": "Python 3"
    },
    "language_info": {
      "name": "python"
    }
  },
  "cells": [
    {
      "cell_type": "markdown",
      "metadata": {
        "id": "view-in-github",
        "colab_type": "text"
      },
      "source": [
        "<a href=\"https://colab.research.google.com/github/aimanshahid800/Open_Ai_SDK/blob/main/python_practice.ipynb\" target=\"_parent\"><img src=\"https://colab.research.google.com/assets/colab-badge.svg\" alt=\"Open In Colab\"/></a>"
      ]
    },
    {
      "cell_type": "code",
      "execution_count": null,
      "metadata": {
        "colab": {
          "base_uri": "https://localhost:8080/"
        },
        "id": "ACNWWGcQZmyM",
        "outputId": "93c2dc0e-7821-406d-d1aa-24e482e7cd6a"
      },
      "outputs": [
        {
          "output_type": "stream",
          "name": "stdout",
          "text": [
            "hello Aiman\n"
          ]
        }
      ],
      "source": [
        "print(\"hello Aiman\")"
      ]
    },
    {
      "cell_type": "code",
      "source": [
        "print(\"mujha pata ha mara name 🥴\")"
      ],
      "metadata": {
        "colab": {
          "base_uri": "https://localhost:8080/"
        },
        "id": "VIpKv7uokpHq",
        "outputId": "fc0f61a6-7183-4a8f-fbcf-cbff87ad6058"
      },
      "execution_count": null,
      "outputs": [
        {
          "output_type": "stream",
          "name": "stdout",
          "text": [
            "mujha pata ha mara name 🥴\n"
          ]
        }
      ]
    },
    {
      "cell_type": "code",
      "source": [
        "fav_celabrity=\"v\"\n",
        "print(fav_celabrity)"
      ],
      "metadata": {
        "colab": {
          "base_uri": "https://localhost:8080/"
        },
        "id": "yDoJK8I-opHN",
        "outputId": "c893395e-fff3-4d5a-8aa9-2b63b969e3ba"
      },
      "execution_count": null,
      "outputs": [
        {
          "output_type": "stream",
          "name": "stdout",
          "text": [
            "v\n"
          ]
        }
      ]
    },
    {
      "cell_type": "code",
      "source": [
        "fav_num=88\n",
        "print(fav_num)"
      ],
      "metadata": {
        "colab": {
          "base_uri": "https://localhost:8080/"
        },
        "id": "um7h4Kp9uzco",
        "outputId": "2445ea6e-6025-4294-db72-54094287019d"
      },
      "execution_count": null,
      "outputs": [
        {
          "output_type": "stream",
          "name": "stdout",
          "text": [
            "88\n"
          ]
        }
      ]
    },
    {
      "cell_type": "markdown",
      "source": [
        "concatination:"
      ],
      "metadata": {
        "id": "TjqFRA7Ty0XA"
      }
    },
    {
      "cell_type": "code",
      "source": [
        "sentence=\"my name is \"\n",
        "name=\"Aiman\"\n",
        "print(sentence+name)"
      ],
      "metadata": {
        "colab": {
          "base_uri": "https://localhost:8080/"
        },
        "id": "688SQdheylYa",
        "outputId": "da3db452-35e8-4bcd-c5e2-b4e705ddcfab"
      },
      "execution_count": null,
      "outputs": [
        {
          "output_type": "stream",
          "name": "stdout",
          "text": [
            "my name is Aiman\n"
          ]
        }
      ]
    },
    {
      "cell_type": "code",
      "source": [
        "name=\"Aiman\"\n",
        "age=19\n",
        "print(type(name))\n",
        "print(type(age))"
      ],
      "metadata": {
        "colab": {
          "base_uri": "https://localhost:8080/"
        },
        "id": "NwILbGjm5Kk4",
        "outputId": "a83de598-dbdd-4731-8177-99e657a3f94d"
      },
      "execution_count": null,
      "outputs": [
        {
          "output_type": "stream",
          "name": "stdout",
          "text": [
            "<class 'str'>\n",
            "<class 'int'>\n"
          ]
        }
      ]
    },
    {
      "cell_type": "markdown",
      "source": [
        "FString\n"
      ],
      "metadata": {
        "id": "zZGjZWw27S6M"
      }
    },
    {
      "cell_type": "code",
      "source": [
        "print(f\"my name is\" ,name,f\"my age is\",age)\n",
        "print(f\"my name is {name} my age is {age}\")"
      ],
      "metadata": {
        "colab": {
          "base_uri": "https://localhost:8080/"
        },
        "id": "nvUM-35R7XDZ",
        "outputId": "f5c6445d-6e9c-4b71-f03c-8dddb78a6e57"
      },
      "execution_count": null,
      "outputs": [
        {
          "output_type": "stream",
          "name": "stdout",
          "text": [
            "my name is Aiman my age is 19\n",
            "my name is Aiman my age is 19\n"
          ]
        }
      ]
    },
    {
      "cell_type": "markdown",
      "source": [
        "text ko next line ma likhay ka liya :"
      ],
      "metadata": {
        "id": "tKNr-hEy9gXP"
      }
    },
    {
      "cell_type": "code",
      "source": [
        "paragraph=\"\"\"hi my name is Aiman Shahid.\n",
        "i am a developer.\n",
        "i want to write text in next line?\"\"\"\n",
        "print(paragraph)"
      ],
      "metadata": {
        "colab": {
          "base_uri": "https://localhost:8080/"
        },
        "id": "DEByZU7i9fiG",
        "outputId": "9aafb051-1841-4f15-ec36-664af855aab8"
      },
      "execution_count": null,
      "outputs": [
        {
          "output_type": "stream",
          "name": "stdout",
          "text": [
            "hi my name is Aiman Shahid.\n",
            "i am a developer.\n",
            "i want to write text in next line?\n"
          ]
        }
      ]
    },
    {
      "cell_type": "markdown",
      "source": [
        "Assignment 1:"
      ],
      "metadata": {
        "id": "-x9hjfOp-NWd"
      }
    },
    {
      "cell_type": "code",
      "source": [
        "name= \"Aiman\"\n",
        "print(\n",
        "\n",
        "f\"\"\"Hi {name}.\n",
        "You got a free copan code : happycoding123.\n",
        "\n",
        "Best Regards.\n",
        "from: Shahid.\"\"\"\n",
        ")"
      ],
      "metadata": {
        "colab": {
          "base_uri": "https://localhost:8080/"
        },
        "id": "mNWRiVi8-P9Q",
        "outputId": "affbd82a-a2b4-47d1-8924-f3daad32be84"
      },
      "execution_count": null,
      "outputs": [
        {
          "output_type": "stream",
          "name": "stdout",
          "text": [
            "Hi Aiman.\n",
            "You got a free copan code : happycoding123.\n",
            "\n",
            "Best Regards.\n",
            "from: Shahid.\n"
          ]
        }
      ]
    },
    {
      "cell_type": "markdown",
      "source": [
        "Arithmatic Operator:"
      ],
      "metadata": {
        "id": "6yyhQSGdBf1T"
      }
    },
    {
      "cell_type": "code",
      "source": [
        "num1=11\n",
        "num2=3\n",
        "result1=num1+num2\n",
        "result2=num1-num2\n",
        "result3=num1*num2\n",
        "result4=num1/num2\n",
        "result5=num1%num2\n",
        "result6=num1**num2\n",
        "print(\"Addition:\",result1)\n",
        "print(\"Subtraction:\",result2)\n",
        "print(\"Multiplication:\",result3)\n",
        "print(\"Division:\",result4)\n",
        "print(\"Modulus:\",result5)\n",
        "print(\"Exponent:\",result6)\n"
      ],
      "metadata": {
        "colab": {
          "base_uri": "https://localhost:8080/"
        },
        "id": "GrpGHnovBjAB",
        "outputId": "b6ac2e6c-101a-44ab-a6f3-2315e61a3eac"
      },
      "execution_count": null,
      "outputs": [
        {
          "output_type": "stream",
          "name": "stdout",
          "text": [
            "Addition: 14\n",
            "Subtraction: 8\n",
            "Multiplication: 33\n",
            "Division: 3.6666666666666665\n",
            "Modulus: 2\n",
            "Exponent: 1331\n"
          ]
        }
      ]
    },
    {
      "cell_type": "markdown",
      "source": [
        "Assignment:2"
      ],
      "metadata": {
        "id": "lbR8tx4uE73q"
      }
    },
    {
      "cell_type": "code",
      "source": [
        "faculty=12\n",
        "admin_staff=4\n",
        "students=100\n",
        "absent_people=15\n",
        "Rabri_g=250\n",
        "Rabri_kg=Rabri_g / 1000\n",
        "total_people_coming=faculty+admin_staff+students-absent_people\n",
        "print(\"Total perple:\",faculty+admin_staff+students)\n",
        "print(\"Total perple who are absent:\",absent_people)\n",
        "print(\"Total perple who are coming:\",total_people_coming)\n",
        "print(\"Total amount of rabri amount in grams:\",total_people_coming*Rabri_g)\n",
        "print(\"Total amount of rabri amount in kg:\",total_people_coming*Rabri_kg)"
      ],
      "metadata": {
        "colab": {
          "base_uri": "https://localhost:8080/"
        },
        "id": "5_C21_KxE978",
        "outputId": "e9394659-df0a-45c6-dc37-e4419e0a6382"
      },
      "execution_count": null,
      "outputs": [
        {
          "output_type": "stream",
          "name": "stdout",
          "text": [
            "Total perple: 116\n",
            "Total perple who are absent: 15\n",
            "Total perple who are coming: 101\n",
            "Total amount of rabri amount in grams: 25250\n",
            "Total amount of rabri amount in kg: 25.25\n"
          ]
        }
      ]
    },
    {
      "cell_type": "markdown",
      "source": [
        "Boolean:"
      ],
      "metadata": {
        "id": "1V_w_Z_BQtEi"
      }
    },
    {
      "cell_type": "code",
      "source": [
        "is_loogedin= True\n",
        "isRodeClosed= True\n",
        "isInternetClosed= False\n",
        "print(is_loogedin)\n",
        "print(isRodeClosed)\n",
        "print(type(isInternetClosed))"
      ],
      "metadata": {
        "colab": {
          "base_uri": "https://localhost:8080/"
        },
        "id": "ie6emYVWQu_n",
        "outputId": "9d48db29-425d-47c0-8bb8-aafe8bfe47a2"
      },
      "execution_count": null,
      "outputs": [
        {
          "output_type": "stream",
          "name": "stdout",
          "text": [
            "True\n",
            "True\n",
            "<class 'bool'>\n"
          ]
        }
      ]
    },
    {
      "cell_type": "markdown",
      "source": [
        "Comparision Operator:"
      ],
      "metadata": {
        "id": "NqbcTwarSRU4"
      }
    },
    {
      "cell_type": "code",
      "source": [
        "a=80\n",
        "b=90\n",
        "print(a>b)\n",
        "print(a<b)\n",
        "print(a==b)\n",
        "print(a!=b)\n",
        "print(a>=b)\n",
        "print(a<=b)\n",
        "#"
      ],
      "metadata": {
        "colab": {
          "base_uri": "https://localhost:8080/"
        },
        "id": "yvE87wGpSUgb",
        "outputId": "a7aae9b1-98ca-4dd0-a5b0-7920715d9e4c"
      },
      "execution_count": null,
      "outputs": [
        {
          "output_type": "stream",
          "name": "stdout",
          "text": [
            "False\n",
            "True\n",
            "False\n",
            "True\n",
            "False\n",
            "True\n"
          ]
        }
      ]
    },
    {
      "cell_type": "markdown",
      "source": [
        "Example:"
      ],
      "metadata": {
        "id": "uEYO8hxjU0sc"
      }
    },
    {
      "cell_type": "code",
      "source": [
        "age_limit=18\n",
        "my_age=19\n",
        "if(my_age>=age_limit):\n",
        "    print(\"you are allowed\")\n",
        "else:\n",
        "    print(\"you are not allowed\")"
      ],
      "metadata": {
        "colab": {
          "base_uri": "https://localhost:8080/"
        },
        "id": "NRqjRrldU2PZ",
        "outputId": "9c4a7861-3ed9-4aa8-ba2a-eed76956f2a8"
      },
      "execution_count": null,
      "outputs": [
        {
          "output_type": "stream",
          "name": "stdout",
          "text": [
            "you are allowed\n"
          ]
        }
      ]
    },
    {
      "cell_type": "markdown",
      "source": [
        "**Input:**"
      ],
      "metadata": {
        "id": "4eFiK0dgXinR"
      }
    },
    {
      "cell_type": "code",
      "source": [
        "name=input(\"HI What's your name?:\")\n",
        "print(f\"Hi 😊 {name} !\")"
      ],
      "metadata": {
        "colab": {
          "base_uri": "https://localhost:8080/"
        },
        "id": "NRYcN4n5Whx_",
        "outputId": "0b7e4c84-0261-49a5-a43a-eb0ed68473ee"
      },
      "execution_count": null,
      "outputs": [
        {
          "output_type": "stream",
          "name": "stdout",
          "text": [
            "HI What's your name?:Farwa\n",
            "Hi 😊 Farwa !\n"
          ]
        }
      ]
    },
    {
      "cell_type": "markdown",
      "source": [
        "**elif**"
      ],
      "metadata": {
        "id": "18OPxgbLYTVD"
      }
    },
    {
      "cell_type": "code",
      "source": [
        "age_limit=18\n",
        "my_age=80\n",
        "if(my_age==18):\n",
        "    print(\"you are almost allowed\")\n",
        "elif(my_age>=50):\n",
        "    print(\"you are older not allowed\")\n",
        "else:\n",
        "    print(\"you are not allowed\")"
      ],
      "metadata": {
        "colab": {
          "base_uri": "https://localhost:8080/"
        },
        "id": "DxH_4OTDYWfp",
        "outputId": "d71433c1-87e0-48fe-9e04-71efe372a1fe"
      },
      "execution_count": null,
      "outputs": [
        {
          "output_type": "stream",
          "name": "stdout",
          "text": [
            "you are older not allowed\n"
          ]
        }
      ]
    },
    {
      "cell_type": "markdown",
      "source": [
        "**Logical operator:**"
      ],
      "metadata": {
        "id": "SoXVY1G_Z5Jm"
      }
    },
    {
      "cell_type": "code",
      "source": [
        "#Conditional Statements\n",
        "age=int(input(\"Enter your age:\"))\n",
        "weight=int(input(\"Enter your waight:\"))\n",
        "if(age>=18 or weight<=50):\n",
        "    print(\"you are a minor.\")\n",
        "elif(age == 18 and weight <= 79):\n",
        "    print(\"you are a young person.\")\n",
        "elif(age >= 80 and weight <= 80):\n",
        "    print(\"you are a older person.\")\n",
        "else:\n",
        "    print(\"you are over weight.\")"
      ],
      "metadata": {
        "colab": {
          "base_uri": "https://localhost:8080/"
        },
        "id": "m4lATuzmaSvx",
        "outputId": "e61b57c0-5d96-477d-8a24-82b2d8965a38"
      },
      "execution_count": null,
      "outputs": [
        {
          "output_type": "stream",
          "name": "stdout",
          "text": [
            "Enter your age:19\n",
            "Enter your waight:50\n",
            "you are a minor.\n"
          ]
        }
      ]
    },
    {
      "cell_type": "markdown",
      "source": [
        "#Small Project:"
      ],
      "metadata": {
        "id": "ixIIQa4GBu1J"
      }
    },
    {
      "cell_type": "code",
      "source": [
        "\n",
        "isHungry = False\n",
        "burgerLover=False\n",
        "pizzaLover=True\n",
        "if(isHungry and burgerLover and pizzaLover):\n",
        "    print(\"Lets order the both\")\n",
        "elif(isHungry and burgerLover):\n",
        "    print(\"Lets order the Burger\")\n",
        "elif(isHungry and pizzaLover):\n",
        "    print(\"Lets order the Pizza\")\n",
        "else:\n",
        "    print(\"Not Hungry\")"
      ],
      "metadata": {
        "colab": {
          "base_uri": "https://localhost:8080/"
        },
        "id": "OZnUKXkWBtfj",
        "outputId": "903979d1-b686-4503-bc75-2a6bb00cb719"
      },
      "execution_count": null,
      "outputs": [
        {
          "output_type": "stream",
          "name": "stdout",
          "text": [
            "Not Hungry\n"
          ]
        }
      ]
    },
    {
      "cell_type": "markdown",
      "source": [
        "# Lists:"
      ],
      "metadata": {
        "id": "LcvFh0BDBXMz"
      }
    },
    {
      "cell_type": "code",
      "source": [
        "from typing import List\n",
        "#shopping list\n",
        "item1 : str=\"Cake\"\n",
        "item2 : str=\"Eggs\"\n",
        "item3 : str=\"Juice\"\n",
        "item4 : str=\"Milk\"\n",
        "item5 : str=\"Bread\"\n",
        "#print(item1,item2,item3,item4,item5)\n",
        "shopping_list : List[str]=[\"Cake\",\"Eggs\",\"Juice\",\"Milk\",\"Bread\"]\n",
        "print(shopping_list[4])\n",
        "\n"
      ],
      "metadata": {
        "colab": {
          "base_uri": "https://localhost:8080/"
        },
        "id": "exf4nsC2Bc13",
        "outputId": "cc64078b-98ca-41a8-8869-4cdb50a777a6"
      },
      "execution_count": null,
      "outputs": [
        {
          "output_type": "stream",
          "name": "stdout",
          "text": [
            "Bread\n"
          ]
        }
      ]
    },
    {
      "cell_type": "markdown",
      "source": [
        "# list lenght"
      ],
      "metadata": {
        "id": "FXZa-JQBJITg"
      }
    },
    {
      "cell_type": "code",
      "source": [
        "shopping_list : List[str]=[\"Cake\",\"Eggs\",\"Juice\",\"Milk\",\"Bread\"]\n",
        "print(len(shopping_list))"
      ],
      "metadata": {
        "colab": {
          "base_uri": "https://localhost:8080/"
        },
        "id": "godW_aUwJNQ2",
        "outputId": "537e19e2-02b2-46d9-9286-b24910bfff27"
      },
      "execution_count": null,
      "outputs": [
        {
          "output_type": "stream",
          "name": "stdout",
          "text": [
            "5\n"
          ]
        }
      ]
    },
    {
      "cell_type": "markdown",
      "source": [
        "#List slicing:"
      ],
      "metadata": {
        "id": "cJZUYnUOJm5m"
      }
    },
    {
      "cell_type": "code",
      "source": [
        "shopping_list : List[str]=[\"Cake\",\"Eggs\",\"Juice\",\"Milk\",\"Bread\",\"Chips\",\"Jam\",\"Coke\"]\n",
        "print(shopping_list[2:5])\n",
        "print(shopping_list[0:6])\n",
        "#Checking Membership\n",
        "print(\"Chips\" in shopping_list)\n",
        "print(\"Jam\" in shopping_list)"
      ],
      "metadata": {
        "colab": {
          "base_uri": "https://localhost:8080/"
        },
        "id": "Gkp6R4ojJqzV",
        "outputId": "8f78adf3-eb91-468a-f628-e1881993cfeb"
      },
      "execution_count": null,
      "outputs": [
        {
          "output_type": "stream",
          "name": "stdout",
          "text": [
            "['Juice', 'Milk', 'Bread']\n",
            "['Cake', 'Eggs', 'Juice', 'Milk', 'Bread', 'Chips']\n",
            "True\n",
            "True\n"
          ]
        }
      ]
    },
    {
      "cell_type": "markdown",
      "source": [
        "#adding and removing items:"
      ],
      "metadata": {
        "id": "JXBq-8OYLTU8"
      }
    },
    {
      "cell_type": "code",
      "source": [
        "shopping_list : List[str]=[\"Cake\",\"Eggs\",\"Juice\",\"Milk\",\"Bread\",\"Chips\",\"Jam\",\"Coke\"]\n",
        "print(shopping_list)\n",
        "#Append items\n",
        "shopping_list.append(\"Flour\")\n",
        "print(shopping_list)\n",
        "#remove\n",
        "shopping_list.remove(\"Flour\")\n",
        "print(shopping_list)"
      ],
      "metadata": {
        "colab": {
          "base_uri": "https://localhost:8080/"
        },
        "id": "AEasUTwdLTA_",
        "outputId": "f68c6211-32c5-48a8-fbdf-32c5d4ef817d"
      },
      "execution_count": null,
      "outputs": [
        {
          "output_type": "stream",
          "name": "stdout",
          "text": [
            "['Cake', 'Eggs', 'Juice', 'Milk', 'Bread', 'Chips', 'Jam', 'Coke']\n",
            "['Cake', 'Eggs', 'Juice', 'Milk', 'Bread', 'Chips', 'Jam', 'Coke', 'Flour']\n",
            "['Cake', 'Eggs', 'Juice', 'Milk', 'Bread', 'Chips', 'Jam', 'Coke']\n",
            "['Sugar', 'Cake', 'Eggs', 'Juice', 'Milk', 'Bread', 'Chips', 'Jam', 'Coke']\n"
          ]
        }
      ]
    },
    {
      "cell_type": "markdown",
      "source": [
        "#Inserting and Poping:"
      ],
      "metadata": {
        "id": "9yRQIiUOMl5-"
      }
    },
    {
      "cell_type": "code",
      "source": [
        "#Inserting\n",
        "shopping_list : List[str]=[\"Cake\",\"Eggs\",\"Juice\",\"Milk\",\"Bread\",\"Chips\",\"Jam\",\"Coke\"]\n",
        "print(shopping_list)\n",
        "shopping_list.insert(0,\"Sugar\")\n",
        "print(shopping_list)\n",
        "#poping\n",
        "shopping_list.pop(5)\n",
        "print(shopping_list)"
      ],
      "metadata": {
        "colab": {
          "base_uri": "https://localhost:8080/"
        },
        "id": "hgYgpV0-Moix",
        "outputId": "2f4e0689-0315-40bb-bbae-516d4c259dc8"
      },
      "execution_count": null,
      "outputs": [
        {
          "output_type": "stream",
          "name": "stdout",
          "text": [
            "['Cake', 'Eggs', 'Juice', 'Milk', 'Bread', 'Chips', 'Jam', 'Coke']\n",
            "['Sugar', 'Cake', 'Eggs', 'Juice', 'Milk', 'Bread', 'Chips', 'Jam', 'Coke']\n",
            "['Sugar', 'Cake', 'Eggs', 'Juice', 'Milk', 'Chips', 'Jam', 'Coke']\n"
          ]
        }
      ]
    },
    {
      "cell_type": "markdown",
      "source": [
        "#Function:"
      ],
      "metadata": {
        "id": "5GCFdWKuOG-D"
      }
    },
    {
      "cell_type": "code",
      "source": [
        "#why we use it:\n",
        "# because it saves us repettaion\n",
        "# and orginaze it\n",
        "\n",
        "#Stntax:\n",
        "\n",
        "#def function_name(peremeter):\n",
        "  #code block\n",
        "  #return value\n",
        "  #calling:\n",
        "#function_name(peremeter)\n",
        "\n",
        "#lets greet through example function :\n",
        "def greet(name):\n",
        "  print(f\"Hi {name}\")\n",
        "greet(\"Aiman\")\n",
        "greet(\"hamza\")\n",
        "greet(\"maryam\")"
      ],
      "metadata": {
        "colab": {
          "base_uri": "https://localhost:8080/"
        },
        "id": "vjqfjUV8OJMA",
        "outputId": "5bb0002e-eac3-4c24-9f2d-6afa4233467d"
      },
      "execution_count": null,
      "outputs": [
        {
          "output_type": "stream",
          "name": "stdout",
          "text": [
            "Hi Aiman\n",
            "Hi hamza\n",
            "Hi maryam\n"
          ]
        }
      ]
    },
    {
      "cell_type": "markdown",
      "source": [
        "#Create function with return value"
      ],
      "metadata": {
        "id": "CiHQtab4NCEt"
      }
    },
    {
      "cell_type": "code",
      "source": [
        "def add(a,b):\n",
        "  return a+b\n",
        "add(2,3)"
      ],
      "metadata": {
        "id": "m88zwyAqOgdQ",
        "colab": {
          "base_uri": "https://localhost:8080/"
        },
        "outputId": "94dec428-1752-4a4e-bbff-333ea832a2cb"
      },
      "execution_count": null,
      "outputs": [
        {
          "output_type": "execute_result",
          "data": {
            "text/plain": [
              "5"
            ]
          },
          "metadata": {},
          "execution_count": 4
        }
      ]
    },
    {
      "cell_type": "markdown",
      "source": [
        "#function with default peremeter:"
      ],
      "metadata": {
        "id": "IO8XKTcUXAGU"
      }
    },
    {
      "cell_type": "code",
      "source": [
        "def greet(name=\"Aiman\"):\n",
        "  print(f\"Hi {name} 🥰🎶🎸\")\n",
        "greet()\n",
        "greet(\"Maryam\")"
      ],
      "metadata": {
        "colab": {
          "base_uri": "https://localhost:8080/"
        },
        "id": "GIipFFcbXErH",
        "outputId": "1693b763-076d-46cd-e860-42f61d7c392a"
      },
      "execution_count": null,
      "outputs": [
        {
          "output_type": "stream",
          "name": "stdout",
          "text": [
            "Hi Aiman 🥰🎶🎸\n",
            "Hi Maryam 🥰🎶🎸\n"
          ]
        }
      ]
    },
    {
      "cell_type": "markdown",
      "source": [
        "#Assignment:\n"
      ],
      "metadata": {
        "id": "9HAO0H3CXt3V"
      }
    },
    {
      "cell_type": "code",
      "source": [
        "def calculator(a,b,operation):\n",
        "  if(operation==\"+\"):\n",
        "    return a+b\n",
        "  elif(operation==\"-\"):\n",
        "    return a-b\n",
        "  elif(operation==\"*\"):\n",
        "    return a*b\n",
        "  elif(operation==\"/\"):\n",
        "    return a/b\n",
        "\n",
        "print(\"addition:\",calculator(2,3,\"+\"))\n",
        "print(\"subctraction:\",calculator(2,3,\"-\"))\n",
        "print(\"multiplication:\",calculator(2,3,\"*\"))\n",
        "print(\"division:\",calculator(2,3,\"/\"))"
      ],
      "metadata": {
        "colab": {
          "base_uri": "https://localhost:8080/"
        },
        "id": "1U272uT_Xsrn",
        "outputId": "741d7c3f-7605-4927-ef9e-43d8e4f91a2b"
      },
      "execution_count": null,
      "outputs": [
        {
          "output_type": "stream",
          "name": "stdout",
          "text": [
            "addition: 5\n",
            "subctraction: -1\n",
            "multiplication: 6\n",
            "division: 0.6666666666666666\n"
          ]
        }
      ]
    },
    {
      "cell_type": "code",
      "source": [
        "def call_llm(prompt):\n",
        "  print(f\"prompt:{prompt}\")\n",
        "  return \"Hello how can i assist you today 😊!\"\n",
        "\n",
        "responce=call_llm(\"Ai:Hello My name is Aiman\")#this is only argument passing\n",
        "#responce=call_llm(prompt=\"Ai:Hello My name is Aiman\")#this is keyword argument\n",
        "print(responce)"
      ],
      "metadata": {
        "colab": {
          "base_uri": "https://localhost:8080/"
        },
        "id": "qilZj6uSr0Gq",
        "outputId": "4c829179-0ff8-4279-b0f8-de9a2160f5d6"
      },
      "execution_count": null,
      "outputs": [
        {
          "output_type": "stream",
          "name": "stdout",
          "text": [
            "prompt:Ai:Hello My name is Aiman\n",
            "Hello how can i assist you today 😊!\n"
          ]
        }
      ]
    },
    {
      "cell_type": "markdown",
      "source": [
        "#Romdom number generating function:"
      ],
      "metadata": {
        "id": "LfMwMyNMzaAW"
      }
    },
    {
      "cell_type": "code",
      "source": [
        "import random\n",
        "\n",
        "def roll_dice():\n",
        "  return random.randint(1,6)\n",
        "\n",
        "print(roll_dice())\n"
      ],
      "metadata": {
        "colab": {
          "base_uri": "https://localhost:8080/"
        },
        "id": "PSgiBp09zYuB",
        "outputId": "8bca7a10-9dd3-4427-a307-e7b0c80ed16e"
      },
      "execution_count": null,
      "outputs": [
        {
          "output_type": "stream",
          "name": "stdout",
          "text": [
            "5\n"
          ]
        }
      ]
    },
    {
      "cell_type": "markdown",
      "source": [
        "#python dictionary:"
      ],
      "metadata": {
        "id": "oyTG8u5X7lpA"
      }
    },
    {
      "cell_type": "code",
      "source": [
        "users = {\n",
        "    \"username\":\"Aiman\",\n",
        "    \"email\" : \"aimanshahid800@gmail.com\",\n",
        "    \"passward\":\"agsyuewhdi2UEI3U#@#@\",\n",
        "    \"age\":19,\n",
        "    \"city\":\"lahore,Pakistan\",\n",
        "}\n",
        "print(users[\"username\"])\n",
        "print(users[\"email\"])\n",
        "print(users[\"passward\"])\n",
        "print(users[\"age\"])\n",
        "print(users[\"city\"])"
      ],
      "metadata": {
        "colab": {
          "base_uri": "https://localhost:8080/"
        },
        "id": "yTmJiv5-7qmi",
        "outputId": "11146133-b467-42ae-9efd-51febc039790"
      },
      "execution_count": null,
      "outputs": [
        {
          "output_type": "stream",
          "name": "stdout",
          "text": [
            "Aiman\n",
            "aimanshahid800@gmail.com\n",
            "agsyuewhdi2UEI3U#@#@\n",
            "19\n",
            "lahore,Pakistan\n"
          ]
        }
      ]
    },
    {
      "cell_type": "markdown",
      "source": [
        "#adding and updating dictionory:"
      ],
      "metadata": {
        "id": "isqSUS6l9Khv"
      }
    },
    {
      "cell_type": "code",
      "source": [
        "users = {\n",
        "    \"username\":\"Aiman\",\n",
        "    \"email\" : \"aimanshahid800@gmail.com\",\n",
        "    \"passward\":\"agsyuewhdi2UEI3U#@#@\",\n",
        "    \"age\":19,\n",
        "    \"city\":\"lahore,Pakistan\",\n",
        "}\n",
        "#updating\n",
        "print(users)\n",
        "users['username']=\"Maryam\"\n",
        "print(users[\"username\"])\n",
        "users[\"country\"]=\"Pakistan\"\n",
        "print(users[\"country\"])\n",
        "#adding\n",
        "users[\"gender\"]=\"male\"\n",
        "print(users[\"gender\"])"
      ],
      "metadata": {
        "colab": {
          "base_uri": "https://localhost:8080/"
        },
        "id": "Yta1zUat9OsM",
        "outputId": "8e8add3d-950c-4677-abb3-2cc6859a83f7"
      },
      "execution_count": null,
      "outputs": [
        {
          "output_type": "stream",
          "name": "stdout",
          "text": [
            "{'username': 'Aiman', 'email': 'aimanshahid800@gmail.com', 'passward': 'agsyuewhdi2UEI3U#@#@', 'age': 19, 'city': 'lahore,Pakistan'}\n",
            "Maryam\n",
            "Pakistan\n",
            "male\n"
          ]
        }
      ]
    },
    {
      "cell_type": "markdown",
      "source": [
        "#For loop"
      ],
      "metadata": {
        "id": "jYXNnwEgHWBZ"
      }
    },
    {
      "cell_type": "code",
      "source": [
        "for i in range(1,6):\n",
        "  print (i)\n",
        "\n",
        "students=[\"ali\",\"zara\",\"aiman\",\"maryam\"]\n",
        "for students in students:\n",
        "  print(students)"
      ],
      "metadata": {
        "colab": {
          "base_uri": "https://localhost:8080/"
        },
        "id": "HUlM4feX_bBy",
        "outputId": "e35e5f0f-e56f-49c3-af15-a78bae02ff20"
      },
      "execution_count": null,
      "outputs": [
        {
          "output_type": "stream",
          "name": "stdout",
          "text": [
            "1\n",
            "2\n",
            "3\n",
            "4\n",
            "5\n",
            "ali\n",
            "zara\n",
            "aiman\n",
            "maryam\n"
          ]
        }
      ]
    },
    {
      "cell_type": "markdown",
      "source": [
        "#Number Guessing game:"
      ],
      "metadata": {
        "id": "Be6MqAd0ixMv"
      }
    },
    {
      "cell_type": "markdown",
      "source": [],
      "metadata": {
        "id": "iB-PtHcKiwpv"
      }
    },
    {
      "cell_type": "code",
      "source": [
        "correct_number=9\n",
        "guess=0\n",
        "while correct_number!=guess:\n",
        "  guess =int(input(\"Guess the correct number:\"))\n",
        "  if(correct_number!=guess):\n",
        "    print(\"wrong try again \")\n",
        "  else:\n",
        "    print(\"correct guess\")\n"
      ],
      "metadata": {
        "colab": {
          "base_uri": "https://localhost:8080/"
        },
        "id": "hIS028y3i2gL",
        "outputId": "e93a7200-1dc9-4503-9104-251eb1d415bc"
      },
      "execution_count": null,
      "outputs": [
        {
          "output_type": "stream",
          "name": "stdout",
          "text": [
            "Guess the correct number:7\n",
            "wrong try again \n",
            "Guess the correct number:9\n",
            "correct guess\n"
          ]
        }
      ]
    },
    {
      "cell_type": "markdown",
      "source": [
        "#While Loop:"
      ],
      "metadata": {
        "id": "g5pVf5QHpw05"
      }
    },
    {
      "cell_type": "code",
      "source": [
        "countdown=10\n",
        "while countdown>=1:# FALSE ki waja sa loop nhi chalta ha true sa chaly ga\n",
        "  print(f\"{countdown}...\")\n",
        "  countdown -=1\n",
        "\n",
        "print(\"happy\")"
      ],
      "metadata": {
        "colab": {
          "base_uri": "https://localhost:8080/"
        },
        "id": "CsNlcjHtpzbq",
        "outputId": "8b47f1da-002c-4cc4-f9c8-163940bd7dac"
      },
      "execution_count": null,
      "outputs": [
        {
          "output_type": "stream",
          "name": "stdout",
          "text": [
            "10...\n",
            "9...\n",
            "8...\n",
            "7...\n",
            "6...\n",
            "5...\n",
            "4...\n",
            "3...\n",
            "2...\n",
            "1...\n",
            "happy\n"
          ]
        }
      ]
    },
    {
      "cell_type": "markdown",
      "source": [
        "#For Loop:"
      ],
      "metadata": {
        "id": "ArEIpRJusxGz"
      }
    },
    {
      "cell_type": "code",
      "source": [
        "number=[1,2,3,4,5]\n",
        "for num in number:\n",
        "  print(num ** 2)\n"
      ],
      "metadata": {
        "colab": {
          "base_uri": "https://localhost:8080/"
        },
        "id": "-xmQ524Ys0z_",
        "outputId": "a7db51f9-49fd-4b7a-dcf2-f1e16b41cc13"
      },
      "execution_count": null,
      "outputs": [
        {
          "output_type": "stream",
          "name": "stdout",
          "text": [
            "1\n",
            "4\n",
            "9\n",
            "16\n",
            "25\n"
          ]
        }
      ]
    },
    {
      "cell_type": "markdown",
      "source": [
        "# error handling:"
      ],
      "metadata": {
        "id": "HbaiWI2TviBu"
      }
    },
    {
      "cell_type": "code",
      "source": [
        "#syntax:\n",
        "#try:\n",
        "  #try this code\n",
        "#except\n",
        " #do this code\n",
        "\n",
        "try:\n",
        "  num=int(input(\"enter a number:\"))\n",
        "  result = num/10\n",
        "  print(f\"Result is:{result}\")\n",
        "except ZeroDivisionError:\n",
        "  print(\"can not divided by zero.\")\n",
        "except ValueError:\n",
        "  print(\"Only numbers are accepted.\")"
      ],
      "metadata": {
        "id": "9EWHYWlwvnV2",
        "colab": {
          "base_uri": "https://localhost:8080/"
        },
        "outputId": "4cd6f311-c393-4008-df7b-fd7e4e38f200"
      },
      "execution_count": null,
      "outputs": [
        {
          "output_type": "stream",
          "name": "stdout",
          "text": [
            "enter a number:#\n",
            "Only numbers are accepted.\n"
          ]
        }
      ]
    },
    {
      "cell_type": "markdown",
      "source": [
        "#File Handeling\n"
      ],
      "metadata": {
        "id": "DX5jvgkFMsgB"
      }
    },
    {
      "cell_type": "code",
      "source": [
        "file = open(\"Aiman.txt\",\"w+\")\n",
        "file.write(\"\\nAiman\")\n",
        "file.seek(0)\n",
        "line=file.read()\n",
        "print(line)\n",
        "file.close()"
      ],
      "metadata": {
        "colab": {
          "base_uri": "https://localhost:8080/"
        },
        "id": "LLNjpAQ4MxCw",
        "outputId": "5442d487-1b05-4e35-bb95-73ed7bc0b891"
      },
      "execution_count": null,
      "outputs": [
        {
          "output_type": "stream",
          "name": "stdout",
          "text": [
            "\n",
            "Aiman\n"
          ]
        }
      ]
    },
    {
      "cell_type": "code",
      "source": [
        "with open(\"s.txt\",\"w+\") as file:\n",
        "  file.write(\"Aiman kia kr rahi ho yahan \")\n",
        "  file.seek(0)\n",
        "  line=file.read()\n",
        "  print(line)"
      ],
      "metadata": {
        "colab": {
          "base_uri": "https://localhost:8080/"
        },
        "id": "N3feBnijkFdQ",
        "outputId": "1ad09ce4-71f5-4669-d2d4-c952e1721f5b"
      },
      "execution_count": null,
      "outputs": [
        {
          "output_type": "stream",
          "name": "stdout",
          "text": [
            "Aiman kia kr rahi ho yahan \n"
          ]
        }
      ]
    },
    {
      "cell_type": "markdown",
      "source": [
        "#File Upload:"
      ],
      "metadata": {
        "id": "p36CCZtmH5dr"
      }
    },
    {
      "cell_type": "code",
      "source": [
        "from google.colab import files\n",
        "\n",
        "uploaded=files.upload()"
      ],
      "metadata": {
        "colab": {
          "base_uri": "https://localhost:8080/",
          "height": 90
        },
        "id": "OUfaX4jIH9qS",
        "outputId": "cca1d1dc-4e0d-492e-ffd4-567058b242f0"
      },
      "execution_count": null,
      "outputs": [
        {
          "output_type": "display_data",
          "data": {
            "text/plain": [
              "<IPython.core.display.HTML object>"
            ],
            "text/html": [
              "\n",
              "     <input type=\"file\" id=\"files-c6e303c4-7e91-4113-a595-4f9d7864d50c\" name=\"files[]\" multiple disabled\n",
              "        style=\"border:none\" />\n",
              "     <output id=\"result-c6e303c4-7e91-4113-a595-4f9d7864d50c\">\n",
              "      Upload widget is only available when the cell has been executed in the\n",
              "      current browser session. Please rerun this cell to enable.\n",
              "      </output>\n",
              "      <script>// Copyright 2017 Google LLC\n",
              "//\n",
              "// Licensed under the Apache License, Version 2.0 (the \"License\");\n",
              "// you may not use this file except in compliance with the License.\n",
              "// You may obtain a copy of the License at\n",
              "//\n",
              "//      http://www.apache.org/licenses/LICENSE-2.0\n",
              "//\n",
              "// Unless required by applicable law or agreed to in writing, software\n",
              "// distributed under the License is distributed on an \"AS IS\" BASIS,\n",
              "// WITHOUT WARRANTIES OR CONDITIONS OF ANY KIND, either express or implied.\n",
              "// See the License for the specific language governing permissions and\n",
              "// limitations under the License.\n",
              "\n",
              "/**\n",
              " * @fileoverview Helpers for google.colab Python module.\n",
              " */\n",
              "(function(scope) {\n",
              "function span(text, styleAttributes = {}) {\n",
              "  const element = document.createElement('span');\n",
              "  element.textContent = text;\n",
              "  for (const key of Object.keys(styleAttributes)) {\n",
              "    element.style[key] = styleAttributes[key];\n",
              "  }\n",
              "  return element;\n",
              "}\n",
              "\n",
              "// Max number of bytes which will be uploaded at a time.\n",
              "const MAX_PAYLOAD_SIZE = 100 * 1024;\n",
              "\n",
              "function _uploadFiles(inputId, outputId) {\n",
              "  const steps = uploadFilesStep(inputId, outputId);\n",
              "  const outputElement = document.getElementById(outputId);\n",
              "  // Cache steps on the outputElement to make it available for the next call\n",
              "  // to uploadFilesContinue from Python.\n",
              "  outputElement.steps = steps;\n",
              "\n",
              "  return _uploadFilesContinue(outputId);\n",
              "}\n",
              "\n",
              "// This is roughly an async generator (not supported in the browser yet),\n",
              "// where there are multiple asynchronous steps and the Python side is going\n",
              "// to poll for completion of each step.\n",
              "// This uses a Promise to block the python side on completion of each step,\n",
              "// then passes the result of the previous step as the input to the next step.\n",
              "function _uploadFilesContinue(outputId) {\n",
              "  const outputElement = document.getElementById(outputId);\n",
              "  const steps = outputElement.steps;\n",
              "\n",
              "  const next = steps.next(outputElement.lastPromiseValue);\n",
              "  return Promise.resolve(next.value.promise).then((value) => {\n",
              "    // Cache the last promise value to make it available to the next\n",
              "    // step of the generator.\n",
              "    outputElement.lastPromiseValue = value;\n",
              "    return next.value.response;\n",
              "  });\n",
              "}\n",
              "\n",
              "/**\n",
              " * Generator function which is called between each async step of the upload\n",
              " * process.\n",
              " * @param {string} inputId Element ID of the input file picker element.\n",
              " * @param {string} outputId Element ID of the output display.\n",
              " * @return {!Iterable<!Object>} Iterable of next steps.\n",
              " */\n",
              "function* uploadFilesStep(inputId, outputId) {\n",
              "  const inputElement = document.getElementById(inputId);\n",
              "  inputElement.disabled = false;\n",
              "\n",
              "  const outputElement = document.getElementById(outputId);\n",
              "  outputElement.innerHTML = '';\n",
              "\n",
              "  const pickedPromise = new Promise((resolve) => {\n",
              "    inputElement.addEventListener('change', (e) => {\n",
              "      resolve(e.target.files);\n",
              "    });\n",
              "  });\n",
              "\n",
              "  const cancel = document.createElement('button');\n",
              "  inputElement.parentElement.appendChild(cancel);\n",
              "  cancel.textContent = 'Cancel upload';\n",
              "  const cancelPromise = new Promise((resolve) => {\n",
              "    cancel.onclick = () => {\n",
              "      resolve(null);\n",
              "    };\n",
              "  });\n",
              "\n",
              "  // Wait for the user to pick the files.\n",
              "  const files = yield {\n",
              "    promise: Promise.race([pickedPromise, cancelPromise]),\n",
              "    response: {\n",
              "      action: 'starting',\n",
              "    }\n",
              "  };\n",
              "\n",
              "  cancel.remove();\n",
              "\n",
              "  // Disable the input element since further picks are not allowed.\n",
              "  inputElement.disabled = true;\n",
              "\n",
              "  if (!files) {\n",
              "    return {\n",
              "      response: {\n",
              "        action: 'complete',\n",
              "      }\n",
              "    };\n",
              "  }\n",
              "\n",
              "  for (const file of files) {\n",
              "    const li = document.createElement('li');\n",
              "    li.append(span(file.name, {fontWeight: 'bold'}));\n",
              "    li.append(span(\n",
              "        `(${file.type || 'n/a'}) - ${file.size} bytes, ` +\n",
              "        `last modified: ${\n",
              "            file.lastModifiedDate ? file.lastModifiedDate.toLocaleDateString() :\n",
              "                                    'n/a'} - `));\n",
              "    const percent = span('0% done');\n",
              "    li.appendChild(percent);\n",
              "\n",
              "    outputElement.appendChild(li);\n",
              "\n",
              "    const fileDataPromise = new Promise((resolve) => {\n",
              "      const reader = new FileReader();\n",
              "      reader.onload = (e) => {\n",
              "        resolve(e.target.result);\n",
              "      };\n",
              "      reader.readAsArrayBuffer(file);\n",
              "    });\n",
              "    // Wait for the data to be ready.\n",
              "    let fileData = yield {\n",
              "      promise: fileDataPromise,\n",
              "      response: {\n",
              "        action: 'continue',\n",
              "      }\n",
              "    };\n",
              "\n",
              "    // Use a chunked sending to avoid message size limits. See b/62115660.\n",
              "    let position = 0;\n",
              "    do {\n",
              "      const length = Math.min(fileData.byteLength - position, MAX_PAYLOAD_SIZE);\n",
              "      const chunk = new Uint8Array(fileData, position, length);\n",
              "      position += length;\n",
              "\n",
              "      const base64 = btoa(String.fromCharCode.apply(null, chunk));\n",
              "      yield {\n",
              "        response: {\n",
              "          action: 'append',\n",
              "          file: file.name,\n",
              "          data: base64,\n",
              "        },\n",
              "      };\n",
              "\n",
              "      let percentDone = fileData.byteLength === 0 ?\n",
              "          100 :\n",
              "          Math.round((position / fileData.byteLength) * 100);\n",
              "      percent.textContent = `${percentDone}% done`;\n",
              "\n",
              "    } while (position < fileData.byteLength);\n",
              "  }\n",
              "\n",
              "  // All done.\n",
              "  yield {\n",
              "    response: {\n",
              "      action: 'complete',\n",
              "    }\n",
              "  };\n",
              "}\n",
              "\n",
              "scope.google = scope.google || {};\n",
              "scope.google.colab = scope.google.colab || {};\n",
              "scope.google.colab._files = {\n",
              "  _uploadFiles,\n",
              "  _uploadFilesContinue,\n",
              "};\n",
              "})(self);\n",
              "</script> "
            ]
          },
          "metadata": {}
        },
        {
          "output_type": "stream",
          "name": "stdout",
          "text": [
            "Saving 8. Software Contracts.pptx to 8. Software Contracts.pptx\n"
          ]
        }
      ]
    },
    {
      "cell_type": "code",
      "source": [
        "# prompt: create a csv file with three columns , name , number and address with python\n",
        "\n",
        "import csv\n",
        "\n",
        "data = [\n",
        "    ['name', 'number', 'address'],\n",
        "    ['Alice', 123, '123 Main St'],\n",
        "    ['Bob', 456, '456 Oak Ave'],\n",
        "    ['Charlie', 789, '789 Pine Ln']\n",
        "]\n",
        "\n",
        "with open('my_data.csv', 'w', newline='') as csvfile:\n",
        "    writer = csv.writer(csvfile)\n",
        "    writer.writerows(data)\n",
        "\n",
        "print(\"CSV file 'my_data.csv' created successfully.\")"
      ],
      "metadata": {
        "colab": {
          "base_uri": "https://localhost:8080/"
        },
        "id": "TU59iSqYIlMW",
        "outputId": "09f75b7d-3048-45cb-ffb4-d0cd8b15ea1c"
      },
      "execution_count": null,
      "outputs": [
        {
          "output_type": "stream",
          "name": "stdout",
          "text": [
            "CSV file 'my_data.csv' created successfully.\n"
          ]
        }
      ]
    },
    {
      "cell_type": "markdown",
      "source": [
        "# OOP:"
      ],
      "metadata": {
        "id": "K5N15ViUwGK1"
      }
    },
    {
      "cell_type": "code",
      "source": [
        "class House:\n",
        "  address:str=\"House No . 123\"\n",
        "  number_of_rooms:int=4\n",
        "  number_of_doors:int=2\n",
        "\n",
        "  def __init__(self,address:str):\n",
        "     print(\"House created\")\n",
        "     self.address= address\n",
        "     print(self.address)\n",
        "\n",
        "\n",
        "\n",
        "Aiman_House=House(\"House No. 13\")\n",
        "print(f\"Aimans house address: {Aiman_House.address}\")\n",
        "\n",
        "Maryam_House=House(\"House No. 14\")\n",
        "print(f\"Maryams house address: {Maryam_House.address}\")\n"
      ],
      "metadata": {
        "colab": {
          "base_uri": "https://localhost:8080/"
        },
        "id": "mzumCiQswLFD",
        "outputId": "76413cfa-52c5-4018-87bc-f927d8e14b07"
      },
      "execution_count": 19,
      "outputs": [
        {
          "output_type": "stream",
          "name": "stdout",
          "text": [
            "House created\n",
            "House No. 13\n",
            "Aimans house address: House No. 13\n",
            "House created\n",
            "House No. 14\n",
            "Maryams house address: House No. 14\n"
          ]
        }
      ]
    },
    {
      "cell_type": "code",
      "source": [],
      "metadata": {
        "id": "e9vbjAsQhIzf"
      },
      "execution_count": null,
      "outputs": []
    }
  ]
}