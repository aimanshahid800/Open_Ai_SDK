{
  "nbformat": 4,
  "nbformat_minor": 0,
  "metadata": {
    "colab": {
      "provenance": [],
      "authorship_tag": "ABX9TyPWaFLSKy4/K4BvNGgT8mBL",
      "include_colab_link": true
    },
    "kernelspec": {
      "name": "python3",
      "display_name": "Python 3"
    },
    "language_info": {
      "name": "python"
    }
  },
  "cells": [
    {
      "cell_type": "markdown",
      "metadata": {
        "id": "view-in-github",
        "colab_type": "text"
      },
      "source": [
        "<a href=\"https://colab.research.google.com/github/aimanshahid800/Open_Ai_SDK/blob/main/python_practice.ipynb\" target=\"_parent\"><img src=\"https://colab.research.google.com/assets/colab-badge.svg\" alt=\"Open In Colab\"/></a>"
      ]
    },
    {
      "cell_type": "code",
      "execution_count": null,
      "metadata": {
        "colab": {
          "base_uri": "https://localhost:8080/"
        },
        "id": "ACNWWGcQZmyM",
        "outputId": "93c2dc0e-7821-406d-d1aa-24e482e7cd6a"
      },
      "outputs": [
        {
          "output_type": "stream",
          "name": "stdout",
          "text": [
            "hello Aiman\n"
          ]
        }
      ],
      "source": [
        "print(\"hello Aiman\")"
      ]
    },
    {
      "cell_type": "code",
      "source": [
        "print(\"mujha pata ha mara name 🥴\")"
      ],
      "metadata": {
        "colab": {
          "base_uri": "https://localhost:8080/"
        },
        "id": "VIpKv7uokpHq",
        "outputId": "fc0f61a6-7183-4a8f-fbcf-cbff87ad6058"
      },
      "execution_count": null,
      "outputs": [
        {
          "output_type": "stream",
          "name": "stdout",
          "text": [
            "mujha pata ha mara name 🥴\n"
          ]
        }
      ]
    },
    {
      "cell_type": "code",
      "source": [
        "fav_celabrity=\"v\"\n",
        "print(fav_celabrity)"
      ],
      "metadata": {
        "colab": {
          "base_uri": "https://localhost:8080/"
        },
        "id": "yDoJK8I-opHN",
        "outputId": "c893395e-fff3-4d5a-8aa9-2b63b969e3ba"
      },
      "execution_count": null,
      "outputs": [
        {
          "output_type": "stream",
          "name": "stdout",
          "text": [
            "v\n"
          ]
        }
      ]
    },
    {
      "cell_type": "code",
      "source": [
        "fav_num=88\n",
        "print(fav_num)"
      ],
      "metadata": {
        "colab": {
          "base_uri": "https://localhost:8080/"
        },
        "id": "um7h4Kp9uzco",
        "outputId": "2445ea6e-6025-4294-db72-54094287019d"
      },
      "execution_count": null,
      "outputs": [
        {
          "output_type": "stream",
          "name": "stdout",
          "text": [
            "88\n"
          ]
        }
      ]
    },
    {
      "cell_type": "markdown",
      "source": [
        "concatination:"
      ],
      "metadata": {
        "id": "TjqFRA7Ty0XA"
      }
    },
    {
      "cell_type": "code",
      "source": [
        "sentence=\"my name is \"\n",
        "name=\"Aiman\"\n",
        "print(sentence+name)"
      ],
      "metadata": {
        "colab": {
          "base_uri": "https://localhost:8080/"
        },
        "id": "688SQdheylYa",
        "outputId": "da3db452-35e8-4bcd-c5e2-b4e705ddcfab"
      },
      "execution_count": null,
      "outputs": [
        {
          "output_type": "stream",
          "name": "stdout",
          "text": [
            "my name is Aiman\n"
          ]
        }
      ]
    },
    {
      "cell_type": "code",
      "source": [
        "name=\"Aiman\"\n",
        "age=19\n",
        "print(type(name))\n",
        "print(type(age))"
      ],
      "metadata": {
        "colab": {
          "base_uri": "https://localhost:8080/"
        },
        "id": "NwILbGjm5Kk4",
        "outputId": "a83de598-dbdd-4731-8177-99e657a3f94d"
      },
      "execution_count": null,
      "outputs": [
        {
          "output_type": "stream",
          "name": "stdout",
          "text": [
            "<class 'str'>\n",
            "<class 'int'>\n"
          ]
        }
      ]
    },
    {
      "cell_type": "markdown",
      "source": [
        "FString\n"
      ],
      "metadata": {
        "id": "zZGjZWw27S6M"
      }
    },
    {
      "cell_type": "code",
      "source": [
        "print(f\"my name is\" ,name,f\"my age is\",age)\n",
        "print(f\"my name is {name} my age is {age}\")"
      ],
      "metadata": {
        "colab": {
          "base_uri": "https://localhost:8080/"
        },
        "id": "nvUM-35R7XDZ",
        "outputId": "f5c6445d-6e9c-4b71-f03c-8dddb78a6e57"
      },
      "execution_count": null,
      "outputs": [
        {
          "output_type": "stream",
          "name": "stdout",
          "text": [
            "my name is Aiman my age is 19\n",
            "my name is Aiman my age is 19\n"
          ]
        }
      ]
    },
    {
      "cell_type": "markdown",
      "source": [
        "text ko next line ma likhay ka liya :"
      ],
      "metadata": {
        "id": "tKNr-hEy9gXP"
      }
    },
    {
      "cell_type": "code",
      "source": [
        "paragraph=\"\"\"hi my name is Aiman Shahid.\n",
        "i am a developer.\n",
        "i want to write text in next line?\"\"\"\n",
        "print(paragraph)"
      ],
      "metadata": {
        "colab": {
          "base_uri": "https://localhost:8080/"
        },
        "id": "DEByZU7i9fiG",
        "outputId": "9aafb051-1841-4f15-ec36-664af855aab8"
      },
      "execution_count": null,
      "outputs": [
        {
          "output_type": "stream",
          "name": "stdout",
          "text": [
            "hi my name is Aiman Shahid.\n",
            "i am a developer.\n",
            "i want to write text in next line?\n"
          ]
        }
      ]
    },
    {
      "cell_type": "markdown",
      "source": [
        "Assignment 1:"
      ],
      "metadata": {
        "id": "-x9hjfOp-NWd"
      }
    },
    {
      "cell_type": "code",
      "source": [
        "name= \"Aiman\"\n",
        "print(\n",
        "\n",
        "f\"\"\"Hi {name}.\n",
        "You got a free copan code : happycoding123.\n",
        "\n",
        "Best Regards.\n",
        "from: Shahid.\"\"\"\n",
        ")"
      ],
      "metadata": {
        "colab": {
          "base_uri": "https://localhost:8080/"
        },
        "id": "mNWRiVi8-P9Q",
        "outputId": "affbd82a-a2b4-47d1-8924-f3daad32be84"
      },
      "execution_count": null,
      "outputs": [
        {
          "output_type": "stream",
          "name": "stdout",
          "text": [
            "Hi Aiman.\n",
            "You got a free copan code : happycoding123.\n",
            "\n",
            "Best Regards.\n",
            "from: Shahid.\n"
          ]
        }
      ]
    },
    {
      "cell_type": "markdown",
      "source": [
        "Arithmatic Operator:"
      ],
      "metadata": {
        "id": "6yyhQSGdBf1T"
      }
    },
    {
      "cell_type": "code",
      "source": [
        "num1=11\n",
        "num2=3\n",
        "result1=num1+num2\n",
        "result2=num1-num2\n",
        "result3=num1*num2\n",
        "result4=num1/num2\n",
        "result5=num1%num2\n",
        "result6=num1**num2\n",
        "print(\"Addition:\",result1)\n",
        "print(\"Subtraction:\",result2)\n",
        "print(\"Multiplication:\",result3)\n",
        "print(\"Division:\",result4)\n",
        "print(\"Modulus:\",result5)\n",
        "print(\"Exponent:\",result6)\n"
      ],
      "metadata": {
        "colab": {
          "base_uri": "https://localhost:8080/"
        },
        "id": "GrpGHnovBjAB",
        "outputId": "b6ac2e6c-101a-44ab-a6f3-2315e61a3eac"
      },
      "execution_count": null,
      "outputs": [
        {
          "output_type": "stream",
          "name": "stdout",
          "text": [
            "Addition: 14\n",
            "Subtraction: 8\n",
            "Multiplication: 33\n",
            "Division: 3.6666666666666665\n",
            "Modulus: 2\n",
            "Exponent: 1331\n"
          ]
        }
      ]
    },
    {
      "cell_type": "markdown",
      "source": [
        "Assignment:2"
      ],
      "metadata": {
        "id": "lbR8tx4uE73q"
      }
    },
    {
      "cell_type": "code",
      "source": [
        "faculty=12\n",
        "admin_staff=4\n",
        "students=100\n",
        "absent_people=15\n",
        "Rabri_g=250\n",
        "Rabri_kg=Rabri_g / 1000\n",
        "total_people_coming=faculty+admin_staff+students-absent_people\n",
        "print(\"Total perple:\",faculty+admin_staff+students)\n",
        "print(\"Total perple who are absent:\",absent_people)\n",
        "print(\"Total perple who are coming:\",total_people_coming)\n",
        "print(\"Total amount of rabri amount in grams:\",total_people_coming*Rabri_g)\n",
        "print(\"Total amount of rabri amount in kg:\",total_people_coming*Rabri_kg)"
      ],
      "metadata": {
        "colab": {
          "base_uri": "https://localhost:8080/"
        },
        "id": "5_C21_KxE978",
        "outputId": "e9394659-df0a-45c6-dc37-e4419e0a6382"
      },
      "execution_count": null,
      "outputs": [
        {
          "output_type": "stream",
          "name": "stdout",
          "text": [
            "Total perple: 116\n",
            "Total perple who are absent: 15\n",
            "Total perple who are coming: 101\n",
            "Total amount of rabri amount in grams: 25250\n",
            "Total amount of rabri amount in kg: 25.25\n"
          ]
        }
      ]
    },
    {
      "cell_type": "markdown",
      "source": [
        "Boolean:"
      ],
      "metadata": {
        "id": "1V_w_Z_BQtEi"
      }
    },
    {
      "cell_type": "code",
      "source": [
        "is_loogedin= True\n",
        "isRodeClosed= True\n",
        "isInternetClosed= False\n",
        "print(is_loogedin)\n",
        "print(isRodeClosed)\n",
        "print(type(isInternetClosed))"
      ],
      "metadata": {
        "colab": {
          "base_uri": "https://localhost:8080/"
        },
        "id": "ie6emYVWQu_n",
        "outputId": "9d48db29-425d-47c0-8bb8-aafe8bfe47a2"
      },
      "execution_count": null,
      "outputs": [
        {
          "output_type": "stream",
          "name": "stdout",
          "text": [
            "True\n",
            "True\n",
            "<class 'bool'>\n"
          ]
        }
      ]
    },
    {
      "cell_type": "markdown",
      "source": [
        "Comparision Operator:"
      ],
      "metadata": {
        "id": "NqbcTwarSRU4"
      }
    },
    {
      "cell_type": "code",
      "source": [
        "a=80\n",
        "b=90\n",
        "print(a>b)\n",
        "print(a<b)\n",
        "print(a==b)\n",
        "print(a!=b)\n",
        "print(a>=b)\n",
        "print(a<=b)\n",
        "#"
      ],
      "metadata": {
        "colab": {
          "base_uri": "https://localhost:8080/"
        },
        "id": "yvE87wGpSUgb",
        "outputId": "a7aae9b1-98ca-4dd0-a5b0-7920715d9e4c"
      },
      "execution_count": null,
      "outputs": [
        {
          "output_type": "stream",
          "name": "stdout",
          "text": [
            "False\n",
            "True\n",
            "False\n",
            "True\n",
            "False\n",
            "True\n"
          ]
        }
      ]
    },
    {
      "cell_type": "markdown",
      "source": [
        "Example:"
      ],
      "metadata": {
        "id": "uEYO8hxjU0sc"
      }
    },
    {
      "cell_type": "code",
      "source": [
        "age_limit=18\n",
        "my_age=19\n",
        "if(my_age>=age_limit):\n",
        "    print(\"you are allowed\")\n",
        "else:\n",
        "    print(\"you are not allowed\")"
      ],
      "metadata": {
        "colab": {
          "base_uri": "https://localhost:8080/"
        },
        "id": "NRqjRrldU2PZ",
        "outputId": "9c4a7861-3ed9-4aa8-ba2a-eed76956f2a8"
      },
      "execution_count": null,
      "outputs": [
        {
          "output_type": "stream",
          "name": "stdout",
          "text": [
            "you are allowed\n"
          ]
        }
      ]
    },
    {
      "cell_type": "markdown",
      "source": [
        "**Input:**"
      ],
      "metadata": {
        "id": "4eFiK0dgXinR"
      }
    },
    {
      "cell_type": "code",
      "source": [
        "name=input(\"HI What's your name?:\")\n",
        "print(f\"Hi 😊 {name} !\")"
      ],
      "metadata": {
        "colab": {
          "base_uri": "https://localhost:8080/"
        },
        "id": "NRYcN4n5Whx_",
        "outputId": "0b7e4c84-0261-49a5-a43a-eb0ed68473ee"
      },
      "execution_count": null,
      "outputs": [
        {
          "output_type": "stream",
          "name": "stdout",
          "text": [
            "HI What's your name?:Farwa\n",
            "Hi 😊 Farwa !\n"
          ]
        }
      ]
    },
    {
      "cell_type": "markdown",
      "source": [
        "**elif**"
      ],
      "metadata": {
        "id": "18OPxgbLYTVD"
      }
    },
    {
      "cell_type": "code",
      "source": [
        "age_limit=18\n",
        "my_age=80\n",
        "if(my_age==18):\n",
        "    print(\"you are almost allowed\")\n",
        "elif(my_age>=50):\n",
        "    print(\"you are older not allowed\")\n",
        "else:\n",
        "    print(\"you are not allowed\")"
      ],
      "metadata": {
        "colab": {
          "base_uri": "https://localhost:8080/"
        },
        "id": "DxH_4OTDYWfp",
        "outputId": "d71433c1-87e0-48fe-9e04-71efe372a1fe"
      },
      "execution_count": null,
      "outputs": [
        {
          "output_type": "stream",
          "name": "stdout",
          "text": [
            "you are older not allowed\n"
          ]
        }
      ]
    },
    {
      "cell_type": "markdown",
      "source": [
        "**Logical operator:**"
      ],
      "metadata": {
        "id": "SoXVY1G_Z5Jm"
      }
    },
    {
      "cell_type": "code",
      "source": [
        "#Conditional Statements\n",
        "age=int(input(\"Enter your age:\"))\n",
        "weight=int(input(\"Enter your waight:\"))\n",
        "if(age>=18 or weight<=50):\n",
        "    print(\"you are a minor.\")\n",
        "elif(age == 18 and weight <= 79):\n",
        "    print(\"you are a young person.\")\n",
        "elif(age >= 80 and weight <= 80):\n",
        "    print(\"you are a older person.\")\n",
        "else:\n",
        "    print(\"you are over weight.\")"
      ],
      "metadata": {
        "colab": {
          "base_uri": "https://localhost:8080/"
        },
        "id": "m4lATuzmaSvx",
        "outputId": "e61b57c0-5d96-477d-8a24-82b2d8965a38"
      },
      "execution_count": null,
      "outputs": [
        {
          "output_type": "stream",
          "name": "stdout",
          "text": [
            "Enter your age:19\n",
            "Enter your waight:50\n",
            "you are a minor.\n"
          ]
        }
      ]
    },
    {
      "cell_type": "markdown",
      "source": [
        "#Small Project:"
      ],
      "metadata": {
        "id": "ixIIQa4GBu1J"
      }
    },
    {
      "cell_type": "code",
      "source": [
        "\n",
        "isHungry = False\n",
        "burgerLover=False\n",
        "pizzaLover=True\n",
        "if(isHungry and burgerLover and pizzaLover):\n",
        "    print(\"Lets order the both\")\n",
        "elif(isHungry and burgerLover):\n",
        "    print(\"Lets order the Burger\")\n",
        "elif(isHungry and pizzaLover):\n",
        "    print(\"Lets order the Pizza\")\n",
        "else:\n",
        "    print(\"Not Hungry\")"
      ],
      "metadata": {
        "colab": {
          "base_uri": "https://localhost:8080/"
        },
        "id": "OZnUKXkWBtfj",
        "outputId": "903979d1-b686-4503-bc75-2a6bb00cb719"
      },
      "execution_count": null,
      "outputs": [
        {
          "output_type": "stream",
          "name": "stdout",
          "text": [
            "Not Hungry\n"
          ]
        }
      ]
    },
    {
      "cell_type": "markdown",
      "source": [
        "# Lists:"
      ],
      "metadata": {
        "id": "LcvFh0BDBXMz"
      }
    },
    {
      "cell_type": "code",
      "source": [
        "from typing import List\n",
        "#shopping list\n",
        "item1 : str=\"Cake\"\n",
        "item2 : str=\"Eggs\"\n",
        "item3 : str=\"Juice\"\n",
        "item4 : str=\"Milk\"\n",
        "item5 : str=\"Bread\"\n",
        "#print(item1,item2,item3,item4,item5)\n",
        "shopping_list : List[str]=[\"Cake\",\"Eggs\",\"Juice\",\"Milk\",\"Bread\"]\n",
        "print(shopping_list[4])\n",
        "\n"
      ],
      "metadata": {
        "colab": {
          "base_uri": "https://localhost:8080/"
        },
        "id": "exf4nsC2Bc13",
        "outputId": "cc64078b-98ca-41a8-8869-4cdb50a777a6"
      },
      "execution_count": null,
      "outputs": [
        {
          "output_type": "stream",
          "name": "stdout",
          "text": [
            "Bread\n"
          ]
        }
      ]
    },
    {
      "cell_type": "markdown",
      "source": [
        "# list lenght"
      ],
      "metadata": {
        "id": "FXZa-JQBJITg"
      }
    },
    {
      "cell_type": "code",
      "source": [
        "shopping_list : List[str]=[\"Cake\",\"Eggs\",\"Juice\",\"Milk\",\"Bread\"]\n",
        "print(len(shopping_list))"
      ],
      "metadata": {
        "colab": {
          "base_uri": "https://localhost:8080/"
        },
        "id": "godW_aUwJNQ2",
        "outputId": "537e19e2-02b2-46d9-9286-b24910bfff27"
      },
      "execution_count": null,
      "outputs": [
        {
          "output_type": "stream",
          "name": "stdout",
          "text": [
            "5\n"
          ]
        }
      ]
    },
    {
      "cell_type": "markdown",
      "source": [
        "#List slicing:"
      ],
      "metadata": {
        "id": "cJZUYnUOJm5m"
      }
    },
    {
      "cell_type": "code",
      "source": [
        "shopping_list : List[str]=[\"Cake\",\"Eggs\",\"Juice\",\"Milk\",\"Bread\",\"Chips\",\"Jam\",\"Coke\"]\n",
        "print(shopping_list[2:5])\n",
        "print(shopping_list[0:6])\n",
        "#Checking Membership\n",
        "print(\"Chips\" in shopping_list)\n",
        "print(\"Jam\" in shopping_list)"
      ],
      "metadata": {
        "colab": {
          "base_uri": "https://localhost:8080/"
        },
        "id": "Gkp6R4ojJqzV",
        "outputId": "8f78adf3-eb91-468a-f628-e1881993cfeb"
      },
      "execution_count": null,
      "outputs": [
        {
          "output_type": "stream",
          "name": "stdout",
          "text": [
            "['Juice', 'Milk', 'Bread']\n",
            "['Cake', 'Eggs', 'Juice', 'Milk', 'Bread', 'Chips']\n",
            "True\n",
            "True\n"
          ]
        }
      ]
    },
    {
      "cell_type": "markdown",
      "source": [
        "#adding and removing items:"
      ],
      "metadata": {
        "id": "JXBq-8OYLTU8"
      }
    },
    {
      "cell_type": "code",
      "source": [
        "shopping_list : List[str]=[\"Cake\",\"Eggs\",\"Juice\",\"Milk\",\"Bread\",\"Chips\",\"Jam\",\"Coke\"]\n",
        "print(shopping_list)\n",
        "#Append items\n",
        "shopping_list.append(\"Flour\")\n",
        "print(shopping_list)\n",
        "#remove\n",
        "shopping_list.remove(\"Flour\")\n",
        "print(shopping_list)"
      ],
      "metadata": {
        "colab": {
          "base_uri": "https://localhost:8080/"
        },
        "id": "AEasUTwdLTA_",
        "outputId": "f68c6211-32c5-48a8-fbdf-32c5d4ef817d"
      },
      "execution_count": null,
      "outputs": [
        {
          "output_type": "stream",
          "name": "stdout",
          "text": [
            "['Cake', 'Eggs', 'Juice', 'Milk', 'Bread', 'Chips', 'Jam', 'Coke']\n",
            "['Cake', 'Eggs', 'Juice', 'Milk', 'Bread', 'Chips', 'Jam', 'Coke', 'Flour']\n",
            "['Cake', 'Eggs', 'Juice', 'Milk', 'Bread', 'Chips', 'Jam', 'Coke']\n",
            "['Sugar', 'Cake', 'Eggs', 'Juice', 'Milk', 'Bread', 'Chips', 'Jam', 'Coke']\n"
          ]
        }
      ]
    },
    {
      "cell_type": "markdown",
      "source": [
        "#Inserting and Poping:"
      ],
      "metadata": {
        "id": "9yRQIiUOMl5-"
      }
    },
    {
      "cell_type": "code",
      "source": [
        "#Inserting\n",
        "shopping_list : List[str]=[\"Cake\",\"Eggs\",\"Juice\",\"Milk\",\"Bread\",\"Chips\",\"Jam\",\"Coke\"]\n",
        "print(shopping_list)\n",
        "shopping_list.insert(0,\"Sugar\")\n",
        "print(shopping_list)\n",
        "#poping\n",
        "shopping_list.pop(5)\n",
        "print(shopping_list)"
      ],
      "metadata": {
        "colab": {
          "base_uri": "https://localhost:8080/"
        },
        "id": "hgYgpV0-Moix",
        "outputId": "2f4e0689-0315-40bb-bbae-516d4c259dc8"
      },
      "execution_count": null,
      "outputs": [
        {
          "output_type": "stream",
          "name": "stdout",
          "text": [
            "['Cake', 'Eggs', 'Juice', 'Milk', 'Bread', 'Chips', 'Jam', 'Coke']\n",
            "['Sugar', 'Cake', 'Eggs', 'Juice', 'Milk', 'Bread', 'Chips', 'Jam', 'Coke']\n",
            "['Sugar', 'Cake', 'Eggs', 'Juice', 'Milk', 'Chips', 'Jam', 'Coke']\n"
          ]
        }
      ]
    },
    {
      "cell_type": "markdown",
      "source": [
        "#Function:"
      ],
      "metadata": {
        "id": "5GCFdWKuOG-D"
      }
    },
    {
      "cell_type": "code",
      "source": [
        "#why we use it:\n",
        "# because it saves us repettaion\n",
        "# and orginaze it\n",
        "\n",
        "#Stntax:\n",
        "\n",
        "#def function_name(peremeter):\n",
        "  #code block\n",
        "  #return value\n",
        "  #calling:\n",
        "#function_name(peremeter)\n",
        "\n",
        "#lets greet through example function :\n",
        "def greet(name):\n",
        "  print(f\"Hi {name}\")\n",
        "greet(\"Aiman\")\n",
        "greet(\"hamza\")\n",
        "greet(\"maryam\")"
      ],
      "metadata": {
        "colab": {
          "base_uri": "https://localhost:8080/"
        },
        "id": "vjqfjUV8OJMA",
        "outputId": "5bb0002e-eac3-4c24-9f2d-6afa4233467d"
      },
      "execution_count": null,
      "outputs": [
        {
          "output_type": "stream",
          "name": "stdout",
          "text": [
            "Hi Aiman\n",
            "Hi hamza\n",
            "Hi maryam\n"
          ]
        }
      ]
    },
    {
      "cell_type": "markdown",
      "source": [
        "#Create function with return value"
      ],
      "metadata": {
        "id": "CiHQtab4NCEt"
      }
    },
    {
      "cell_type": "code",
      "source": [
        "def add(a,b):\n",
        "  return a+b\n",
        "add(2,3)"
      ],
      "metadata": {
        "id": "m88zwyAqOgdQ",
        "colab": {
          "base_uri": "https://localhost:8080/"
        },
        "outputId": "94dec428-1752-4a4e-bbff-333ea832a2cb"
      },
      "execution_count": null,
      "outputs": [
        {
          "output_type": "execute_result",
          "data": {
            "text/plain": [
              "5"
            ]
          },
          "metadata": {},
          "execution_count": 4
        }
      ]
    },
    {
      "cell_type": "markdown",
      "source": [
        "#function with default peremeter:"
      ],
      "metadata": {
        "id": "IO8XKTcUXAGU"
      }
    },
    {
      "cell_type": "code",
      "source": [
        "def greet(name=\"Aiman\"):\n",
        "  print(f\"Hi {name} 🥰🎶🎸\")\n",
        "greet()\n",
        "greet(\"Maryam\")"
      ],
      "metadata": {
        "colab": {
          "base_uri": "https://localhost:8080/"
        },
        "id": "GIipFFcbXErH",
        "outputId": "1693b763-076d-46cd-e860-42f61d7c392a"
      },
      "execution_count": null,
      "outputs": [
        {
          "output_type": "stream",
          "name": "stdout",
          "text": [
            "Hi Aiman 🥰🎶🎸\n",
            "Hi Maryam 🥰🎶🎸\n"
          ]
        }
      ]
    },
    {
      "cell_type": "markdown",
      "source": [
        "#Assignment:\n"
      ],
      "metadata": {
        "id": "9HAO0H3CXt3V"
      }
    },
    {
      "cell_type": "code",
      "source": [
        "def calculator(a,b,operation):\n",
        "  if(operation==\"+\"):\n",
        "    return a+b\n",
        "  elif(operation==\"-\"):\n",
        "    return a-b\n",
        "  elif(operation==\"*\"):\n",
        "    return a*b\n",
        "  elif(operation==\"/\"):\n",
        "    return a/b\n",
        "\n",
        "print(\"addition:\",calculator(2,3,\"+\"))\n",
        "print(\"subctraction:\",calculator(2,3,\"-\"))\n",
        "print(\"multiplication:\",calculator(2,3,\"*\"))\n",
        "print(\"division:\",calculator(2,3,\"/\"))"
      ],
      "metadata": {
        "colab": {
          "base_uri": "https://localhost:8080/"
        },
        "id": "1U272uT_Xsrn",
        "outputId": "741d7c3f-7605-4927-ef9e-43d8e4f91a2b"
      },
      "execution_count": null,
      "outputs": [
        {
          "output_type": "stream",
          "name": "stdout",
          "text": [
            "addition: 5\n",
            "subctraction: -1\n",
            "multiplication: 6\n",
            "division: 0.6666666666666666\n"
          ]
        }
      ]
    },
    {
      "cell_type": "code",
      "source": [
        "def call_llm(prompt):\n",
        "  print(f\"prompt:{prompt}\")\n",
        "  return \"Hello how can i assist you today 😊!\"\n",
        "\n",
        "responce=call_llm(\"Ai:Hello My name is Aiman\")#this is only argument passing\n",
        "#responce=call_llm(prompt=\"Ai:Hello My name is Aiman\")#this is keyword argument\n",
        "print(responce)"
      ],
      "metadata": {
        "colab": {
          "base_uri": "https://localhost:8080/"
        },
        "id": "qilZj6uSr0Gq",
        "outputId": "4c829179-0ff8-4279-b0f8-de9a2160f5d6"
      },
      "execution_count": null,
      "outputs": [
        {
          "output_type": "stream",
          "name": "stdout",
          "text": [
            "prompt:Ai:Hello My name is Aiman\n",
            "Hello how can i assist you today 😊!\n"
          ]
        }
      ]
    },
    {
      "cell_type": "markdown",
      "source": [
        "#Romdom number generating function:"
      ],
      "metadata": {
        "id": "LfMwMyNMzaAW"
      }
    },
    {
      "cell_type": "code",
      "source": [
        "import random\n",
        "\n",
        "def roll_dice():\n",
        "  return random.randint(1,6)\n",
        "\n",
        "print(roll_dice())\n"
      ],
      "metadata": {
        "colab": {
          "base_uri": "https://localhost:8080/"
        },
        "id": "PSgiBp09zYuB",
        "outputId": "8bca7a10-9dd3-4427-a307-e7b0c80ed16e"
      },
      "execution_count": null,
      "outputs": [
        {
          "output_type": "stream",
          "name": "stdout",
          "text": [
            "5\n"
          ]
        }
      ]
    },
    {
      "cell_type": "markdown",
      "source": [
        "#python dictionary:"
      ],
      "metadata": {
        "id": "oyTG8u5X7lpA"
      }
    },
    {
      "cell_type": "code",
      "source": [
        "users = {\n",
        "    \"username\":\"Aiman\",\n",
        "    \"email\" : \"aimanshahid800@gmail.com\",\n",
        "    \"passward\":\"agsyuewhdi2UEI3U#@#@\",\n",
        "    \"age\":19,\n",
        "    \"city\":\"lahore,Pakistan\",\n",
        "}\n",
        "print(users[\"username\"])\n",
        "print(users[\"email\"])\n",
        "print(users[\"passward\"])\n",
        "print(users[\"age\"])\n",
        "print(users[\"city\"])"
      ],
      "metadata": {
        "colab": {
          "base_uri": "https://localhost:8080/"
        },
        "id": "yTmJiv5-7qmi",
        "outputId": "11146133-b467-42ae-9efd-51febc039790"
      },
      "execution_count": null,
      "outputs": [
        {
          "output_type": "stream",
          "name": "stdout",
          "text": [
            "Aiman\n",
            "aimanshahid800@gmail.com\n",
            "agsyuewhdi2UEI3U#@#@\n",
            "19\n",
            "lahore,Pakistan\n"
          ]
        }
      ]
    },
    {
      "cell_type": "markdown",
      "source": [
        "#adding and updating dictionory:"
      ],
      "metadata": {
        "id": "isqSUS6l9Khv"
      }
    },
    {
      "cell_type": "code",
      "source": [
        "users = {\n",
        "    \"username\":\"Aiman\",\n",
        "    \"email\" : \"aimanshahid800@gmail.com\",\n",
        "    \"passward\":\"agsyuewhdi2UEI3U#@#@\",\n",
        "    \"age\":19,\n",
        "    \"city\":\"lahore,Pakistan\",\n",
        "}\n",
        "#updating\n",
        "print(users)\n",
        "users['username']=\"Maryam\"\n",
        "print(users[\"username\"])\n",
        "users[\"country\"]=\"Pakistan\"\n",
        "print(users[\"country\"])\n",
        "#adding\n",
        "users[\"gender\"]=\"male\"\n",
        "print(users[\"gender\"])"
      ],
      "metadata": {
        "colab": {
          "base_uri": "https://localhost:8080/"
        },
        "id": "Yta1zUat9OsM",
        "outputId": "8e8add3d-950c-4677-abb3-2cc6859a83f7"
      },
      "execution_count": null,
      "outputs": [
        {
          "output_type": "stream",
          "name": "stdout",
          "text": [
            "{'username': 'Aiman', 'email': 'aimanshahid800@gmail.com', 'passward': 'agsyuewhdi2UEI3U#@#@', 'age': 19, 'city': 'lahore,Pakistan'}\n",
            "Maryam\n",
            "Pakistan\n",
            "male\n"
          ]
        }
      ]
    },
    {
      "cell_type": "markdown",
      "source": [
        "#For loop"
      ],
      "metadata": {
        "id": "jYXNnwEgHWBZ"
      }
    },
    {
      "cell_type": "code",
      "source": [
        "for i in range(1,6):\n",
        "  print (i)\n",
        "\n",
        "students=[\"ali\",\"zara\",\"aiman\",\"maryam\"]\n",
        "for students in students:\n",
        "  print(students)"
      ],
      "metadata": {
        "colab": {
          "base_uri": "https://localhost:8080/"
        },
        "id": "HUlM4feX_bBy",
        "outputId": "e35e5f0f-e56f-49c3-af15-a78bae02ff20"
      },
      "execution_count": null,
      "outputs": [
        {
          "output_type": "stream",
          "name": "stdout",
          "text": [
            "1\n",
            "2\n",
            "3\n",
            "4\n",
            "5\n",
            "ali\n",
            "zara\n",
            "aiman\n",
            "maryam\n"
          ]
        }
      ]
    }
  ]
}