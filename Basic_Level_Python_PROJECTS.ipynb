{
  "nbformat": 4,
  "nbformat_minor": 0,
  "metadata": {
    "colab": {
      "provenance": [],
      "authorship_tag": "ABX9TyMq8i7FBAUIG+1skmamyK0V",
      "include_colab_link": true
    },
    "kernelspec": {
      "name": "python3",
      "display_name": "Python 3"
    },
    "language_info": {
      "name": "python"
    }
  },
  "cells": [
    {
      "cell_type": "markdown",
      "metadata": {
        "id": "view-in-github",
        "colab_type": "text"
      },
      "source": [
        "<a href=\"https://colab.research.google.com/github/aimanshahid800/Open_Ai_SDK/blob/main/Basic_Level_Python_PROJECTS.ipynb\" target=\"_parent\"><img src=\"https://colab.research.google.com/assets/colab-badge.svg\" alt=\"Open In Colab\"/></a>"
      ]
    },
    {
      "cell_type": "markdown",
      "source": [
        "#JOKE BOT\n"
      ],
      "metadata": {
        "id": "i7Yp9UXCBejP"
      }
    },
    {
      "cell_type": "markdown",
      "source": [],
      "metadata": {
        "id": "9vshlMA0BdrZ"
      }
    },
    {
      "cell_type": "code",
      "execution_count": null,
      "metadata": {
        "colab": {
          "base_uri": "https://localhost:8080/"
        },
        "id": "apOWsSxNBSzQ",
        "outputId": "721150aa-92f2-4dd2-96b5-db0c400fb67a"
      },
      "outputs": [
        {
          "output_type": "stream",
          "name": "stdout",
          "text": [
            "What you want:h\n",
            "I don't know what you mean\n"
          ]
        }
      ],
      "source": [
        "joke=\"Here is a joke for you! Panaversity GPT - Sophia is heading out to the grocery store. A programmer tells her: get a liter of milk, and if they have eggs, get 12. Sophia returns with 13 liters of milk. The programmer asks why and Sophia replies: 'because they had eggs'\"\n",
        "prompt=\"What you want:\"\n",
        "sorry=\"I don't know what you mean\"\n",
        "def bot():\n",
        "  user_input=input(prompt)\n",
        "  if \"joke\" in user_input:\n",
        "    print(joke)\n",
        "  else:\n",
        "    print(sorry)\n",
        "\n",
        "bot()"
      ]
    },
    {
      "cell_type": "markdown",
      "source": [
        "#Double_it"
      ],
      "metadata": {
        "id": "GG0nIt8dFfuW"
      }
    },
    {
      "cell_type": "code",
      "source": [
        "user_input=int(input(\"Enter a number:\"))\n",
        "\n",
        "while user_input<100:\n",
        "  user_input*=2\n",
        "  print(user_input)\n"
      ],
      "metadata": {
        "id": "63Big9zLFjRd",
        "colab": {
          "base_uri": "https://localhost:8080/"
        },
        "outputId": "96d50ee4-ad97-42f4-df3c-4adce6a9ea0d"
      },
      "execution_count": null,
      "outputs": [
        {
          "output_type": "stream",
          "name": "stdout",
          "text": [
            "Enter a number:30\n",
            "60\n",
            "120\n"
          ]
        }
      ]
    },
    {
      "cell_type": "markdown",
      "source": [
        "# 3# liftoff:\n"
      ],
      "metadata": {
        "id": "Ys_H93B2sss4"
      }
    },
    {
      "cell_type": "code",
      "source": [
        "for i in range(10,0,-1):\n",
        "  print(i)\n",
        "print(\"Liftoff!\")"
      ],
      "metadata": {
        "colab": {
          "base_uri": "https://localhost:8080/"
        },
        "id": "LRkFJK8cs1Gi",
        "outputId": "fd00cdd2-9df6-42c8-8bf3-9ad9c9178a8a"
      },
      "execution_count": null,
      "outputs": [
        {
          "output_type": "stream",
          "name": "stdout",
          "text": [
            "10\n",
            "9\n",
            "8\n",
            "7\n",
            "6\n",
            "5\n",
            "4\n",
            "3\n",
            "2\n",
            "1\n",
            "Liftoff!\n"
          ]
        }
      ]
    },
    {
      "cell_type": "markdown",
      "source": [
        "# 4#  Gusse the Number:"
      ],
      "metadata": {
        "id": "rLaZjnGN82cp"
      }
    },
    {
      "cell_type": "code",
      "source": [
        "import random\n",
        "number=random.randint(1,99)\n",
        "guess=int(input(\"Guess the number:\"))\n",
        "if guess < number:\n",
        "  print(\"Your guess is too low\")\n",
        "elif guess > number:\n",
        "  print(\"Your guess is too high\")\n",
        "else:\n",
        "  print(\"You got it!\")\n",
        "\n",
        "print(\"the correct number is:\", {number})"
      ],
      "metadata": {
        "colab": {
          "base_uri": "https://localhost:8080/"
        },
        "id": "aezx4cbn8-SB",
        "outputId": "0c49d9b4-4762-443c-f310-dffbdc89ad68"
      },
      "execution_count": 5,
      "outputs": [
        {
          "output_type": "stream",
          "name": "stdout",
          "text": [
            "Guess the number:45\n",
            "Your guess is too high\n",
            "the correct number is: {13}\n"
          ]
        }
      ]
    },
    {
      "cell_type": "markdown",
      "source": [
        "# 4# 10 romdom numbers:"
      ],
      "metadata": {
        "id": "15AZc7jnDzgN"
      }
    },
    {
      "cell_type": "code",
      "source": [
        "import random\n",
        "\n",
        "for i in range(0,10):\n",
        "  number=random.randint(1,100)\n",
        "  print(number)"
      ],
      "metadata": {
        "colab": {
          "base_uri": "https://localhost:8080/"
        },
        "id": "rXvjLjppD4_z",
        "outputId": "211fe013-00a2-49cc-889d-86a3bd5b1052"
      },
      "execution_count": 12,
      "outputs": [
        {
          "output_type": "stream",
          "name": "stdout",
          "text": [
            "98\n",
            "97\n",
            "50\n",
            "79\n",
            "86\n",
            "17\n",
            "47\n",
            "90\n",
            "60\n",
            "14\n"
          ]
        }
      ]
    }
  ]
}